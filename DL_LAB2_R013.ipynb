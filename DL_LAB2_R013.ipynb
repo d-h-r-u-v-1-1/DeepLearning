{
 "cells": [
  {
   "cell_type": "markdown",
   "metadata": {},
   "source": [
    "Course: **Deep Learning**\n",
    "\n",
    "Program: **MBA Tech AI**\n",
    "\n",
    "Sem: **V**\n",
    "\n",
    "Academic Year: **2024 - 2025**\n",
    "\n",
    "Instructor: **Dr. Radhika Chapaneri**\n",
    "\n",
    "Experiment Number: **2**\n",
    "\n",
    "Roll No: **R013**\n",
    "\n",
    "Name: **Dhruv Pithadia**\n",
    "\n",
    "Batch: **B1**\n",
    "\n",
    "Date of Experiment: **25/07/2024**"
   ]
  },
  {
   "cell_type": "code",
   "execution_count": null,
   "metadata": {},
   "outputs": [],
   "source": []
  }
 ],
 "metadata": {
  "kernelspec": {
   "display_name": "Python 3",
   "language": "python",
   "name": "python3"
  },
  "language_info": {
   "name": "python",
   "version": "3.12.2"
  }
 },
 "nbformat": 4,
 "nbformat_minor": 2
}
