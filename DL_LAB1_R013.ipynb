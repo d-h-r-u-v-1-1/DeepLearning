{
 "cells": [
  {
   "cell_type": "markdown",
   "metadata": {},
   "source": [
    "Course: **Deep Learning**\n",
    "\n",
    "Program: **MBA Tech AI**\n",
    "\n",
    "Sem: **V**\n",
    "\n",
    "Academic Year: **2024 - 2025**\n",
    "\n",
    "Instructor: **Dr. Radhika Chapaneri**\n",
    "\n",
    "Experiment Number: **1**\n",
    "\n",
    "Roll No: **R013**\n",
    "\n",
    "Name: **Dhruv Pithadia**\n",
    "\n",
    "Batch: **B1**\n",
    "\n",
    "Date of Experiment: **18/07/2024**"
   ]
  },
  {
   "cell_type": "markdown",
   "metadata": {},
   "source": [
    "Task 1: **Perform Basic operations of tensorflow**"
   ]
  },
  {
   "cell_type": "code",
   "execution_count": 2,
   "metadata": {},
   "outputs": [
    {
     "data": {
      "text/plain": [
       "'2.16.1'"
      ]
     },
     "execution_count": 2,
     "metadata": {},
     "output_type": "execute_result"
    }
   ],
   "source": [
    "import numpy as np\n",
    "import tensorflow as tf\n",
    "\n",
    "tf.__version__"
   ]
  },
  {
   "cell_type": "code",
   "execution_count": 8,
   "metadata": {},
   "outputs": [
    {
     "name": "stdout",
     "output_type": "stream",
     "text": [
      "tf.Tensor(\n",
      "[[1 2 3]\n",
      " [4 5 6]], shape=(2, 3), dtype=int32)\n",
      "x shape:  (2, 3)\n",
      "x datatype:  <dtype: 'int32'>\n",
      "x value:  <bound method _EagerTensorBase.numpy of <tf.Tensor: shape=(2, 3), dtype=int32, numpy=\n",
      "array([[1, 2, 3],\n",
      "       [4, 5, 6]], dtype=int32)>>\n"
     ]
    }
   ],
   "source": [
    "#Constants\n",
    "x = tf.constant([[1,2,3],[4,5,6]])\n",
    "print(x)\n",
    "print(\"x shape: \", x.shape)\n",
    "print(\"x datatype: \", x.dtype)\n",
    "print(\"x value: \", x.numpy)"
   ]
  },
  {
   "cell_type": "code",
   "execution_count": 10,
   "metadata": {},
   "outputs": [
    {
     "name": "stdout",
     "output_type": "stream",
     "text": [
      "<tf.Variable 'Variable:0' shape=(3,) dtype=int32, numpy=array([1, 2, 3], dtype=int32)>\n"
     ]
    },
    {
     "data": {
      "text/plain": [
       "<tf.Variable 'UnreadVariable' shape=(3,) dtype=int32, numpy=array([2, 3, 4], dtype=int32)>"
      ]
     },
     "execution_count": 10,
     "metadata": {},
     "output_type": "execute_result"
    }
   ],
   "source": [
    "#Variables\n",
    "var = tf.Variable([0, 0, 0])\n",
    "var.assign([1,2,3])\n",
    "print(var)\n",
    "var.assign_add([1,1,1])\n"
   ]
  },
  {
   "cell_type": "code",
   "execution_count": 11,
   "metadata": {},
   "outputs": [
    {
     "name": "stdout",
     "output_type": "stream",
     "text": [
      "<bound method _EagerTensorBase.numpy of <tf.Tensor: shape=(2, 6), dtype=int32, numpy=\n",
      "array([[3, 4, 5, 1, 1, 1],\n",
      "       [1, 2, 3, 7, 8, 9]], dtype=int32)>>\n"
     ]
    }
   ],
   "source": [
    "#Operations in tensorflow\n",
    "#Column Concatenation\n",
    "A = tf.constant([[3,4,5], [1,2,3]])\n",
    "B = tf.Variable([[1,1,1], [7,8,9]])\n",
    "AB_concat_Col = tf.concat([A,B], axis=1)\n",
    "print(AB_concat_Col.numpy)\n",
    "\n"
   ]
  },
  {
   "cell_type": "code",
   "execution_count": 12,
   "metadata": {},
   "outputs": [
    {
     "name": "stdout",
     "output_type": "stream",
     "text": [
      "<bound method _EagerTensorBase.numpy of <tf.Tensor: shape=(4, 3), dtype=int32, numpy=\n",
      "array([[3, 4, 5],\n",
      "       [1, 2, 3],\n",
      "       [1, 1, 1],\n",
      "       [7, 8, 9]], dtype=int32)>>\n"
     ]
    }
   ],
   "source": [
    "#Row Concatenation\n",
    "A = tf.constant([[3,4,5], [1,2,3]])\n",
    "B = tf.Variable([[1,1,1], [7,8,9]])\n",
    "AB_concat_Row = tf.concat([A,B], axis=0)\n",
    "print(AB_concat_Row.numpy)"
   ]
  },
  {
   "cell_type": "code",
   "execution_count": 21,
   "metadata": {},
   "outputs": [
    {
     "data": {
      "text/plain": [
       "<tf.Tensor: shape=(1, 12), dtype=int32, numpy=array([[3, 4, 5, 1, 2, 3, 1, 1, 1, 7, 8, 9]], dtype=int32)>"
      ]
     },
     "execution_count": 21,
     "metadata": {},
     "output_type": "execute_result"
    }
   ],
   "source": [
    "tf.reshape(AB_concat_Row, [1,12])"
   ]
  },
  {
   "cell_type": "code",
   "execution_count": 36,
   "metadata": {},
   "outputs": [
    {
     "name": "stdout",
     "output_type": "stream",
     "text": [
      "Add:  7.1\n",
      "Multiply:  10.2\n"
     ]
    }
   ],
   "source": [
    "#Operations\n",
    "a = tf.constant(2.0)\n",
    "b = tf.constant(5.1)\n",
    "c = tf.constant(4.7)\n",
    "\n",
    "add = tf.add(a,b)\n",
    "multiply = tf.multiply(a,b)\n",
    "print(\"Add: \", add.numpy())\n",
    "print(\"Multiply: \", multiply.numpy())"
   ]
  },
  {
   "cell_type": "code",
   "execution_count": 42,
   "metadata": {},
   "outputs": [
    {
     "name": "stdout",
     "output_type": "stream",
     "text": [
      "3.5\n",
      "[2.5 3.5 4.5]\n",
      "[2. 5.]\n",
      "[[2.5 3.5 4.5]]\n"
     ]
    }
   ],
   "source": [
    "#Operations Reduce Mean\n",
    "x = tf.constant([[1.0,2.0,3.0],[4.0,5.0,6.0]])\n",
    "a = tf.reduce_mean(x)\n",
    "b = tf.reduce_mean(x, 0)\n",
    "c = tf.reduce_mean(x, 1)\n",
    "d = tf.reduce_mean(x, keepdims=True, axis=0)\n",
    "print(a.numpy())\n",
    "print(b.numpy())\n",
    "print(c.numpy())\n",
    "print(d.numpy())"
   ]
  },
  {
   "cell_type": "code",
   "execution_count": 48,
   "metadata": {},
   "outputs": [
    {
     "name": "stdout",
     "output_type": "stream",
     "text": [
      "3.5\n"
     ]
    }
   ],
   "source": [
    "mysum = tf.reduce_sum([a])\n",
    "print(mysum.numpy())"
   ]
  },
  {
   "cell_type": "markdown",
   "metadata": {},
   "source": [
    "Task 2: **Linear Algebra**"
   ]
  },
  {
   "cell_type": "code",
   "execution_count": 59,
   "metadata": {},
   "outputs": [
    {
     "name": "stdout",
     "output_type": "stream",
     "text": [
      "tf.Tensor(\n",
      "[[1 3]\n",
      " [2 4]], shape=(2, 2), dtype=int32)\n"
     ]
    }
   ],
   "source": [
    "C = tf.constant([[1,2],[3,4]])\n",
    "print(tf.transpose(C))"
   ]
  },
  {
   "cell_type": "code",
   "execution_count": 62,
   "metadata": {},
   "outputs": [
    {
     "name": "stdout",
     "output_type": "stream",
     "text": [
      "48.0\n"
     ]
    }
   ],
   "source": [
    "x = tf.constant(4.0)\n",
    "with tf.GradientTape() as tape:\n",
    "    tape.watch(x)\n",
    "    y = x**3\n",
    "grad = tape.gradient(y,x)\n",
    "print(grad.numpy())"
   ]
  },
  {
   "cell_type": "code",
   "execution_count": 64,
   "metadata": {},
   "outputs": [
    {
     "name": "stdout",
     "output_type": "stream",
     "text": [
      "48.0\n"
     ]
    }
   ],
   "source": [
    "x = tf.Variable(4.0, trainable=True)\n",
    "with tf.GradientTape() as tape:\n",
    "    y = x**3\n",
    "grad = tape.gradient(y,x)\n",
    "print(grad.numpy())"
   ]
  },
  {
   "cell_type": "code",
   "execution_count": 66,
   "metadata": {},
   "outputs": [
    {
     "name": "stdout",
     "output_type": "stream",
     "text": [
      "48.0\n",
      "24.0\n"
     ]
    }
   ],
   "source": [
    "#Higher order derivatives\n",
    "x = tf.Variable(4.0, trainable=True)\n",
    "with tf.GradientTape() as tape1:\n",
    "    with tf.GradientTape() as tape2:\n",
    "        y = x**3\n",
    "        order_1 = tape2.gradient(y,x)\n",
    "    order_2 = tape1.gradient(order_1, x)\n",
    "\n",
    "print(order_1.numpy())\n",
    "print(order_2.numpy())"
   ]
  },
  {
   "cell_type": "markdown",
   "metadata": {},
   "source": [
    "Task 4: Compute WX + b where W, x and b are drawn from a random noral distribution. W is of shape (4,3), X is (3,1) and b is (4,1)"
   ]
  },
  {
   "cell_type": "code",
   "execution_count": 67,
   "metadata": {},
   "outputs": [
    {
     "name": "stdout",
     "output_type": "stream",
     "text": [
      "W:\n",
      " [[ 0.3274685  -0.8426258   0.3194337 ]\n",
      " [-1.4075519  -2.3880599  -1.0392479 ]\n",
      " [-0.5573232   0.539707    1.6994323 ]\n",
      " [ 0.28893656 -1.5066116  -0.26454744]]\n",
      "X:\n",
      " [[ 0.08422458]\n",
      " [-0.86090374]\n",
      " [ 0.37812304]]\n",
      "b:\n",
      " [[-0.55909735]\n",
      " [-0.5347214 ]\n",
      " [ 2.3730333 ]\n",
      " [-1.5725931 ]]\n",
      "Result (WX + b):\n",
      " [[ 0.3146885]\n",
      " [ 1.0096543]\n",
      " [ 2.5040517]\n",
      " [-0.3512416]]\n"
     ]
    }
   ],
   "source": [
    "tf.random.set_seed(42)\n",
    "\n",
    "shape_W = (4, 3)\n",
    "shape_X = (3, 1)\n",
    "shape_b = (4, 1)\n",
    "\n",
    "W = tf.random.normal(shape_W)\n",
    "X = tf.random.normal(shape_X)\n",
    "b = tf.random.normal(shape_b)\n",
    "\n",
    "result = tf.matmul(W, X) + b\n",
    "\n",
    "print(\"W:\\n\", W.numpy())\n",
    "print(\"X:\\n\", X.numpy())\n",
    "print(\"b:\\n\", b.numpy())\n",
    "print(\"Result (WX + b):\\n\", result.numpy())"
   ]
  },
  {
   "cell_type": "markdown",
   "metadata": {},
   "source": [
    "Taskk 5: Find the derivative of sigmoid function"
   ]
  },
  {
   "cell_type": "code",
   "execution_count": 68,
   "metadata": {},
   "outputs": [
    {
     "name": "stdout",
     "output_type": "stream",
     "text": [
      "x: 1.0\n",
      "Sigmoid(x): 0.7310586\n",
      "Derivative of Sigmoid at x: 0.19661194\n"
     ]
    }
   ],
   "source": [
    "def sigmoid(x):\n",
    "    return 1 / (1 + tf.exp(-x))\n",
    "\n",
    "@tf.function\n",
    "def sigmoid_derivative(x):\n",
    "    with tf.GradientTape() as tape:\n",
    "        tape.watch(x)\n",
    "        y = sigmoid(x)\n",
    "    dy_dx = tape.gradient(y, x)\n",
    "    return dy_dx\n",
    "\n",
    "x = tf.constant(1.0)\n",
    "derivative = sigmoid_derivative(x)\n",
    "\n",
    "print(\"x:\", x.numpy())\n",
    "print(\"Sigmoid(x):\", sigmoid(x).numpy())\n",
    "print(\"Derivative of Sigmoid at x:\", derivative.numpy())"
   ]
  }
 ],
 "metadata": {
  "kernelspec": {
   "display_name": "Python 3",
   "language": "python",
   "name": "python3"
  },
  "language_info": {
   "codemirror_mode": {
    "name": "ipython",
    "version": 3
   },
   "file_extension": ".py",
   "mimetype": "text/x-python",
   "name": "python",
   "nbconvert_exporter": "python",
   "pygments_lexer": "ipython3",
   "version": "3.12.2"
  }
 },
 "nbformat": 4,
 "nbformat_minor": 2
}
