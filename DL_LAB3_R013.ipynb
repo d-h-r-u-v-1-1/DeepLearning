{
 "cells": [
  {
   "cell_type": "markdown",
   "metadata": {},
   "source": [
    "Course: **Deep Learning**\n",
    "\n",
    "Program: **MBA Tech AI**\n",
    "\n",
    "Sem: **V**\n",
    "\n",
    "Academic Year: **2024 - 2025**\n",
    "\n",
    "Instructor: **Dr. Radhika Chapaneri**\n",
    "\n",
    "Experiment Number: **3**\n",
    "\n",
    "Roll No: **R013**\n",
    "\n",
    "Name: **Dhruv Pithadia**\n",
    "\n",
    "Batch: **B1**\n",
    "\n",
    "Date of Experiment: **01/07/2024**"
   ]
  },
  {
   "cell_type": "code",
   "execution_count": 7,
   "metadata": {},
   "outputs": [
    {
     "name": "stdout",
     "output_type": "stream",
     "text": [
      "Output: 0.6135053384235817\n",
      "Error: 0.07468906171353507\n"
     ]
    }
   ],
   "source": [
    "import numpy as np\n",
    "\n",
    "class SimpleNeuralNetwork:\n",
    "    def __init__(self, x1, x2, w11, w12, w21, w22, q11, q21, b1=0, b2=0, b3=0, target=1):\n",
    "        self.x1 = x1\n",
    "        self.x2 = x2\n",
    "        self.w11 = w11\n",
    "        self.w12 = w12\n",
    "        self.w21 = w21\n",
    "        self.w22 = w22\n",
    "        self.q11 = q11\n",
    "        self.q21 = q21\n",
    "        self.b1 = b1\n",
    "        self.b2 = b2\n",
    "        self.b3 = b3\n",
    "        self.target = target\n",
    "\n",
    "    def sigmoid(self, z):\n",
    "        return 1 / (1 + np.exp(-z))\n",
    "\n",
    "    def forward(self):\n",
    "        # First layer\n",
    "        z1 = self.x1 * self.w11 + self.x2 * self.w21 + self.b1\n",
    "        z2 = self.x1 * self.w12 + self.x2 * self.w22 + self.b2\n",
    "        a1 = self.sigmoid(z1)\n",
    "        a2 = self.sigmoid(z2)\n",
    "\n",
    "        # Second layer\n",
    "        z3 = a1 * self.q11 + a2 * self.q21 + self.b3\n",
    "        a3 = self.sigmoid(z3)\n",
    "\n",
    "        return a3\n",
    "\n",
    "    def compute_error(self, output):\n",
    "        error = 0.5 * (self.target - output) ** 2\n",
    "        return error\n",
    "\n",
    "    def run(self):\n",
    "        output = self.forward()\n",
    "        error = self.compute_error(output)\n",
    "        return output, error\n",
    "\n",
    "# Example usage\n",
    "x1, x2 = 2, 3\n",
    "w11, w12, w21, w22 = 0.5, 0.5, 0.5, 0.5\n",
    "q11, q21 = 0.25, 0.25\n",
    "\n",
    "nn = SimpleNeuralNetwork(x1, x2, w11, w12, w21, w22, q11, q21)\n",
    "output, error = nn.run()\n",
    "\n",
    "print(f\"Output: {output}\")\n",
    "print(f\"Error: {error}\")"
   ]
  }
 ],
 "metadata": {
  "kernelspec": {
   "display_name": "Python 3",
   "language": "python",
   "name": "python3"
  },
  "language_info": {
   "codemirror_mode": {
    "name": "ipython",
    "version": 3
   },
   "file_extension": ".py",
   "mimetype": "text/x-python",
   "name": "python",
   "nbconvert_exporter": "python",
   "pygments_lexer": "ipython3",
   "version": "3.12.2"
  }
 },
 "nbformat": 4,
 "nbformat_minor": 2
}
